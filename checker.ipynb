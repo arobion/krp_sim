{
 "cells": [
  {
   "cell_type": "code",
   "execution_count": 63,
   "metadata": {},
   "outputs": [],
   "source": [
    "stock = [\"euro:10\", \"materiel:0\", \"produit:0\", \"client_content:0\"]\n",
    "\n",
    "process = [\"achat_materiel:(euro:8):(materiel:1):10\",\n",
    "           \"realisation_produit:(materiel:1):(produit:1):30\",\n",
    "           \"livraison:(produit:1):(client_content:1):20\" ]\n",
    "\n",
    "optimize = [\"optimize:(time;client_content)\"]"
   ]
  },
  {
   "cell_type": "code",
   "execution_count": 64,
   "metadata": {},
   "outputs": [],
   "source": [
    "class CustomError(Exception):\n",
    "    pass\n",
    "        \n",
    "class ErrorInput(CustomError):\n",
    "    def __init__(self,*args,**kwargs):\n",
    "        Exception.__init__(self,*args,**kwargs)\n",
    "\n",
    "class ErrorOutput(CustomError):\n",
    "    def __init__(self,*args,**kwargs):\n",
    "        Exception.__init__(self,*args,**kwargs)\n",
    "\n",
    "class KRPError(CustomError):\n",
    "    def __init__(self,*args,**kwargs):\n",
    "        Exception.__init__(self,*args,**kwargs)"
   ]
  },
  {
   "cell_type": "code",
   "execution_count": 85,
   "metadata": {},
   "outputs": [],
   "source": [
    "class Config_structure():\n",
    "    \n",
    "    def __init__(self):\n",
    "        self.stock = {}\n",
    "        self.process = {}\n",
    "        self.optimize = []\n",
    "\n",
    "class Process():\n",
    "    \n",
    "    def __init__(self):\n",
    "        self.name = \"\"\n",
    "        self.duration = 0\n",
    "        self.input = {}\n",
    "        self.output = {}\n",
    "        self.cycle_ending = 0\n",
    "\n",
    "class Env():\n",
    "    \n",
    "    def __init__(self, conf):\n",
    "        self.cycle = 0\n",
    "        self.conf = conf\n",
    "        self.active_process = []\n",
    "    \n",
    "    def add_output(self, process):\n",
    "        for stock, quant in process.output.items():\n",
    "            self.conf.stock[stock] += quant\n",
    "    \n",
    "    def update_cycle(self, new_cycle):\n",
    "        self.cycle = new_cycle\n",
    "        for process in self.active_process:\n",
    "            if process.cycle_ending <= new_cycle:\n",
    "                self.add_output(process)\n",
    "                del process\n",
    "    \n",
    "    def process(self, name):\n",
    "        new_process = Process()\n",
    "        ref_process = self.conf.process[name]\n",
    "        for stock, quant in ref_process.input.items():\n",
    "            self.conf.stock[stock] -= quant\n",
    "            if self.conf.stock[stock] < 0:\n",
    "                raise KRPError(\"Algorithm Error at cycle {} on process '{}': it's impossible to use more stock than available\".format(self.cycle, name))\n",
    "        new_process.output = ref_process.output\n",
    "        new_process.cycle_ending = self.cycle + ref_process.duration\n",
    "        self.active_process.append(new_process)"
   ]
  },
  {
   "cell_type": "code",
   "execution_count": 88,
   "metadata": {},
   "outputs": [],
   "source": [
    "def create_debug_process(conf):\n",
    "    # Process 1 \"achat_materiel:(euro:8):(materiel:1):10\"\n",
    "    p = Process()\n",
    "    p.name = \"achat_materiel\"\n",
    "    p.duration = 10\n",
    "    p.input = {\"euro\":8}\n",
    "    p.output = {\"materiel\":1}\n",
    "    conf.process[\"achat_materiel\"] = p\n",
    "    \n",
    "    # Process 2 \"realisation_produit:(materiel:1):(produit:1):30\"\n",
    "    p = Process()\n",
    "    p.name = \"realisation_produit\"\n",
    "    p.duration = 30\n",
    "    p.input = {\"materiel\":1}\n",
    "    p.output = {\"produit\":1}\n",
    "    conf.process[\"realisation_produit\"] = p\n",
    "    \n",
    "    # Process 3 \"livraison:(produit:1):(client_content:1):20\"\n",
    "    p = Process()\n",
    "    p.name = \"livraison\"\n",
    "    p.duration = 20\n",
    "    p.input = {\"produit\":1}\n",
    "    p.output = {\"client_content\":1}\n",
    "    conf.process[\"livraison\"] = p\n",
    "    \n",
    "    \n",
    "    \n",
    "def read_config(stock, process):\n",
    "    conf = Config_structure()\n",
    "    for line in stock:\n",
    "        single_stock = line.split(':')\n",
    "        if len(single_stock) != 2:\n",
    "            raise ErrorInput(\"Stock Error: Stock bad declaration\")\n",
    "        label = single_stock[0]\n",
    "        try:\n",
    "            quant = int(single_stock[1])\n",
    "        except:\n",
    "            raise ErrorInput(\"Stock Error: Quantity should be a valid integer\")\n",
    "        conf.stock[label] = quant\n",
    "#     for line in process:\n",
    "#         add_process(conf, line) \n",
    "        create_debug_process(conf)\n",
    "    return conf\n",
    "\n",
    "def get_action(action):\n",
    "    tab = action.split(':')\n",
    "    if len(tab) != 2:\n",
    "        raise ErrorOutput(\"KRP Error: Bad output from the KRP_SIM trace\")\n",
    "    try:\n",
    "        cycle = int(tab[0])\n",
    "    except:\n",
    "        raise ErrorOutput(\"KRP Error: Cycle should be a valid integer\")\n",
    "    return cycle, tab[1]\n",
    "\n",
    "def verify(conf, actions):\n",
    "    env = Env(conf)\n",
    "    for action in actions:\n",
    "        cycle, name = get_action(action)\n",
    "        env.update_cycle(cycle)\n",
    "        env.process(name)\n",
    "    "
   ]
  },
  {
   "cell_type": "code",
   "execution_count": 87,
   "metadata": {},
   "outputs": [
    {
     "name": "stdout",
     "output_type": "stream",
     "text": [
      "VERIFICATION OK\n"
     ]
    }
   ],
   "source": [
    "stock = [\"euro:10\", \"materiel:0\", \"produit:0\", \"client_content:0\"]\n",
    "actions = [\"0:achat_materiel\", \"11:realisation_produit\", \"41:livraison\"]\n",
    "try:\n",
    "    t = read_config(stock, process)\n",
    "    verify(t, actions)\n",
    "    print(\"VERIFICATION OK\")\n",
    "except CustomError as err:\n",
    "    print(err)"
   ]
  },
  {
   "cell_type": "code",
   "execution_count": 89,
   "metadata": {},
   "outputs": [
    {
     "data": {
      "text/plain": [
       "1"
      ]
     },
     "execution_count": 89,
     "metadata": {},
     "output_type": "execute_result"
    }
   ],
   "source": [
    "\"euro:10\".count(':')"
   ]
  },
  {
   "cell_type": "code",
   "execution_count": 100,
   "metadata": {},
   "outputs": [],
   "source": [
    "t = \"euro:8\""
   ]
  },
  {
   "cell_type": "code",
   "execution_count": 102,
   "metadata": {},
   "outputs": [
    {
     "data": {
      "text/plain": [
       "['euro', '8']"
      ]
     },
     "execution_count": 102,
     "metadata": {},
     "output_type": "execute_result"
    }
   ],
   "source": [
    "t.split(':')"
   ]
  },
  {
   "cell_type": "code",
   "execution_count": 103,
   "metadata": {},
   "outputs": [
    {
     "data": {
      "text/plain": [
       "32"
      ]
     },
     "execution_count": 103,
     "metadata": {},
     "output_type": "execute_result"
    }
   ],
   "source": [
    "int('32\\n')"
   ]
  },
  {
   "cell_type": "code",
   "execution_count": null,
   "metadata": {},
   "outputs": [],
   "source": []
  }
 ],
 "metadata": {
  "kernelspec": {
   "display_name": "Python 3",
   "language": "python",
   "name": "python3"
  },
  "language_info": {
   "codemirror_mode": {
    "name": "ipython",
    "version": 3
   },
   "file_extension": ".py",
   "mimetype": "text/x-python",
   "name": "python",
   "nbconvert_exporter": "python",
   "pygments_lexer": "ipython3",
   "version": "3.7.1"
  }
 },
 "nbformat": 4,
 "nbformat_minor": 2
}
